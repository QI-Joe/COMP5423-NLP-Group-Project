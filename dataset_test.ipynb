{
 "cells": [
  {
   "cell_type": "code",
   "execution_count": 1,
   "metadata": {},
   "outputs": [],
   "source": [
    "from datasets import load_dataset\n",
    "import pandas as pd\n",
    "import os"
   ]
  },
  {
   "cell_type": "code",
   "execution_count": 2,
   "metadata": {},
   "outputs": [
    {
     "data": {
      "text/html": [
       "<div>\n",
       "<style scoped>\n",
       "    .dataframe tbody tr th:only-of-type {\n",
       "        vertical-align: middle;\n",
       "    }\n",
       "\n",
       "    .dataframe tbody tr th {\n",
       "        vertical-align: top;\n",
       "    }\n",
       "\n",
       "    .dataframe thead th {\n",
       "        text-align: right;\n",
       "    }\n",
       "</style>\n",
       "<table border=\"1\" class=\"dataframe\">\n",
       "  <thead>\n",
       "    <tr style=\"text-align: right;\">\n",
       "      <th></th>\n",
       "      <th>choices</th>\n",
       "      <th>answer</th>\n",
       "      <th>question</th>\n",
       "    </tr>\n",
       "  </thead>\n",
       "  <tbody>\n",
       "    <tr>\n",
       "      <th>0</th>\n",
       "      <td>[admissible, because the attorney-client privi...</td>\n",
       "      <td>2</td>\n",
       "      <td>One afternoon, a pilot was flying a small airp...</td>\n",
       "    </tr>\n",
       "    <tr>\n",
       "      <th>1</th>\n",
       "      <td>[not guilty, if the arrest was unlawful withou...</td>\n",
       "      <td>1</td>\n",
       "      <td>A state statute provides: \"Whenever a person k...</td>\n",
       "    </tr>\n",
       "    <tr>\n",
       "      <th>2</th>\n",
       "      <td>[inadmissible, because it would violate the at...</td>\n",
       "      <td>3</td>\n",
       "      <td>A taxpayer was notified by the government that...</td>\n",
       "    </tr>\n",
       "    <tr>\n",
       "      <th>3</th>\n",
       "      <td>[The resident's petition contained a large num...</td>\n",
       "      <td>2</td>\n",
       "      <td>The new signature requirement was necessary to...</td>\n",
       "    </tr>\n",
       "    <tr>\n",
       "      <th>4</th>\n",
       "      <td>[He intended to kill the friend and not the da...</td>\n",
       "      <td>1</td>\n",
       "      <td>A defendant was not angry at his friend for ma...</td>\n",
       "    </tr>\n",
       "  </tbody>\n",
       "</table>\n",
       "</div>"
      ],
      "text/plain": [
       "                                             choices  answer  \\\n",
       "0  [admissible, because the attorney-client privi...       2   \n",
       "1  [not guilty, if the arrest was unlawful withou...       1   \n",
       "2  [inadmissible, because it would violate the at...       3   \n",
       "3  [The resident's petition contained a large num...       2   \n",
       "4  [He intended to kill the friend and not the da...       1   \n",
       "\n",
       "                                            question  \n",
       "0  One afternoon, a pilot was flying a small airp...  \n",
       "1  A state statute provides: \"Whenever a person k...  \n",
       "2  A taxpayer was notified by the government that...  \n",
       "3  The new signature requirement was necessary to...  \n",
       "4  A defendant was not angry at his friend for ma...  "
      ]
     },
     "execution_count": 2,
     "metadata": {},
     "output_type": "execute_result"
    }
   ],
   "source": [
    "file_path = r\"/mnt/d/StudyWork/大五上/COMP5423大语言/test-00000-of-00001-a5c5e3ccc8f0fc51.parquet\"\n",
    "df = pd.read_parquet(file_path)\n",
    "df.head()"
   ]
  },
  {
   "cell_type": "code",
   "execution_count": 3,
   "metadata": {},
   "outputs": [
    {
     "data": {
      "text/html": [
       "<div>\n",
       "<style scoped>\n",
       "    .dataframe tbody tr th:only-of-type {\n",
       "        vertical-align: middle;\n",
       "    }\n",
       "\n",
       "    .dataframe tbody tr th {\n",
       "        vertical-align: top;\n",
       "    }\n",
       "\n",
       "    .dataframe thead th {\n",
       "        text-align: right;\n",
       "    }\n",
       "</style>\n",
       "<table border=\"1\" class=\"dataframe\">\n",
       "  <thead>\n",
       "    <tr style=\"text-align: right;\">\n",
       "      <th></th>\n",
       "      <th>query</th>\n",
       "      <th>answer</th>\n",
       "    </tr>\n",
       "  </thead>\n",
       "  <tbody>\n",
       "    <tr>\n",
       "      <th>0</th>\n",
       "      <td>One afternoon, a pilot was flying a small airp...</td>\n",
       "      <td>inadmissible, because the attorney-client priv...</td>\n",
       "    </tr>\n",
       "    <tr>\n",
       "      <th>1</th>\n",
       "      <td>A state statute provides: \"Whenever a person k...</td>\n",
       "      <td>not guilty, if the arrest was lawful, provided...</td>\n",
       "    </tr>\n",
       "    <tr>\n",
       "      <th>2</th>\n",
       "      <td>A taxpayer was notified by the government that...</td>\n",
       "      <td>admissible as an admission.</td>\n",
       "    </tr>\n",
       "    <tr>\n",
       "      <th>3</th>\n",
       "      <td>The new signature requirement was necessary to...</td>\n",
       "      <td>The authenticating requirement was necessary t...</td>\n",
       "    </tr>\n",
       "    <tr>\n",
       "      <th>4</th>\n",
       "      <td>A defendant was not angry at his friend for ma...</td>\n",
       "      <td>He intended only to wound the friend.</td>\n",
       "    </tr>\n",
       "  </tbody>\n",
       "</table>\n",
       "</div>"
      ],
      "text/plain": [
       "                                               query  \\\n",
       "0  One afternoon, a pilot was flying a small airp...   \n",
       "1  A state statute provides: \"Whenever a person k...   \n",
       "2  A taxpayer was notified by the government that...   \n",
       "3  The new signature requirement was necessary to...   \n",
       "4  A defendant was not angry at his friend for ma...   \n",
       "\n",
       "                                              answer  \n",
       "0  inadmissible, because the attorney-client priv...  \n",
       "1  not guilty, if the arrest was lawful, provided...  \n",
       "2                        admissible as an admission.  \n",
       "3  The authenticating requirement was necessary t...  \n",
       "4              He intended only to wound the friend.  "
      ]
     },
     "execution_count": 3,
     "metadata": {},
     "output_type": "execute_result"
    }
   ],
   "source": [
    "preprocessing_df = df.values.tolist()\n",
    "\n",
    "answer_warehouse = []\n",
    "\n",
    "for symbols in preprocessing_df:\n",
    "    answers, options, query = symbols\n",
    "    correct = answers[options]\n",
    "    answer_warehouse.append((query, correct))\n",
    "new_data = pd.DataFrame(answer_warehouse, columns=[\"query\", \"answer\"])\n",
    "new_data.head()"
   ]
  },
  {
   "cell_type": "code",
   "execution_count": 4,
   "metadata": {},
   "outputs": [
    {
     "data": {
      "text/plain": [
       "(1534, 2)"
      ]
     },
     "execution_count": 4,
     "metadata": {},
     "output_type": "execute_result"
    }
   ],
   "source": [
    "new_data.shape"
   ]
  },
  {
   "cell_type": "code",
   "execution_count": 5,
   "metadata": {},
   "outputs": [
    {
     "data": {
      "text/html": [
       "<div>\n",
       "<style scoped>\n",
       "    .dataframe tbody tr th:only-of-type {\n",
       "        vertical-align: middle;\n",
       "    }\n",
       "\n",
       "    .dataframe tbody tr th {\n",
       "        vertical-align: top;\n",
       "    }\n",
       "\n",
       "    .dataframe thead th {\n",
       "        text-align: right;\n",
       "    }\n",
       "</style>\n",
       "<table border=\"1\" class=\"dataframe\">\n",
       "  <thead>\n",
       "    <tr style=\"text-align: right;\">\n",
       "      <th></th>\n",
       "      <th>messages</th>\n",
       "    </tr>\n",
       "  </thead>\n",
       "  <tbody>\n",
       "    <tr>\n",
       "      <th>0</th>\n",
       "      <td>[{'content': 'Please answer with one of the op...</td>\n",
       "    </tr>\n",
       "    <tr>\n",
       "      <th>1</th>\n",
       "      <td>[{'content': 'Please answer with one of the op...</td>\n",
       "    </tr>\n",
       "    <tr>\n",
       "      <th>2</th>\n",
       "      <td>[{'content': 'Please answer with one of the op...</td>\n",
       "    </tr>\n",
       "    <tr>\n",
       "      <th>3</th>\n",
       "      <td>[{'content': 'Please answer with one of the op...</td>\n",
       "    </tr>\n",
       "    <tr>\n",
       "      <th>4</th>\n",
       "      <td>[{'content': 'Please answer with one of the op...</td>\n",
       "    </tr>\n",
       "  </tbody>\n",
       "</table>\n",
       "</div>"
      ],
      "text/plain": [
       "                                            messages\n",
       "0  [{'content': 'Please answer with one of the op...\n",
       "1  [{'content': 'Please answer with one of the op...\n",
       "2  [{'content': 'Please answer with one of the op...\n",
       "3  [{'content': 'Please answer with one of the op...\n",
       "4  [{'content': 'Please answer with one of the op..."
      ]
     },
     "execution_count": 5,
     "metadata": {},
     "output_type": "execute_result"
    }
   ],
   "source": [
    "medic_file_path = r\"/mnt/d/CodingArea/Python/COMP5541NLP Group Project/project/project/train-00000-of-00001.parquet\" # D:\\CodingArea\\Python\\COMP5541NLP Group Project\\project\\project\n",
    "medic_df = pd.read_parquet(medic_file_path)\n",
    "medic_df.head()"
   ]
  },
  {
   "cell_type": "code",
   "execution_count": 6,
   "metadata": {},
   "outputs": [
    {
     "data": {
      "text/plain": [
       "(10178, 1)"
      ]
     },
     "execution_count": 6,
     "metadata": {},
     "output_type": "execute_result"
    }
   ],
   "source": [
    "medic_df.shape"
   ]
  },
  {
   "cell_type": "code",
   "execution_count": 7,
   "metadata": {},
   "outputs": [
    {
     "data": {
      "text/plain": [
       "dict_keys(['content', 'role'])"
      ]
     },
     "execution_count": 7,
     "metadata": {},
     "output_type": "execute_result"
    }
   ],
   "source": [
    "medic_df.messages[0][0].keys()"
   ]
  },
  {
   "cell_type": "code",
   "execution_count": 8,
   "metadata": {},
   "outputs": [
    {
     "data": {
      "text/plain": [
       "array([{'content': \"Please answer with one of the option in the bracket.\\n\\nQ:A 35-year-old woman comes to your office with a variety of complaints. As part of her evaluation, she undergoes laboratory testing which reveals the presence of anti-centromere antibodies. All of the following symptoms and signs would be expected to be present EXCEPT:? \\n{'A': 'Pallor, cyanosis, and erythema of the hands', 'B': 'Calcium deposits on digits', 'C': 'Blanching vascular abnormalities', 'D': 'Hypercoagulable state', 'E': 'Heartburn and regurgitation'},\", 'role': 'user'},\n",
       "       {'content': 'D: Hypercoagulable state', 'role': 'assistant'}],\n",
       "      dtype=object)"
      ]
     },
     "execution_count": 8,
     "metadata": {},
     "output_type": "execute_result"
    }
   ],
   "source": [
    "medic_df.messages[0]"
   ]
  },
  {
   "cell_type": "code",
   "execution_count": 9,
   "metadata": {},
   "outputs": [
    {
     "data": {
      "text/plain": [
       "['Q:A 35-year-old woman comes to your office with a variety of complaints. As part of her evaluation, she undergoes laboratory testing which reveals the presence of anti-centromere antibodies. All of the following symptoms and signs would be expected to be present EXCEPT:? ',\n",
       " \"{'A': 'Pallor, cyanosis, and erythema of the hands', 'B': 'Calcium deposits on digits', 'C': 'Blanching vascular abnormalities', 'D': 'Hypercoagulable state', 'E': 'Heartburn and regurgitation'},\"]"
      ]
     },
     "execution_count": 9,
     "metadata": {},
     "output_type": "execute_result"
    }
   ],
   "source": [
    "real_text = medic_df.messages[0][0][\"content\"].split(\"\\n\\n\")[1]\n",
    "real_text.split(\"\\n\")"
   ]
  },
  {
   "cell_type": "code",
   "execution_count": 27,
   "metadata": {},
   "outputs": [],
   "source": [
    "light_storage=[]\n",
    "\n",
    "for val in medic_df.values:\n",
    "    question, answer = val[0]\n",
    "    query = question[\"content\"].split(\"\\n\\n\")[1].split(\"\\n\")[0]\n",
    "    query_role = question[\"role\"]\n",
    "    answer, answer_role = answer[\"content\"].split(\":\")[1], answer[\"role\"]\n",
    "    light_storage.append((query, query_role, answer, answer_role))"
   ]
  },
  {
   "cell_type": "code",
   "execution_count": 28,
   "metadata": {},
   "outputs": [
    {
     "data": {
      "text/html": [
       "<div>\n",
       "<style scoped>\n",
       "    .dataframe tbody tr th:only-of-type {\n",
       "        vertical-align: middle;\n",
       "    }\n",
       "\n",
       "    .dataframe tbody tr th {\n",
       "        vertical-align: top;\n",
       "    }\n",
       "\n",
       "    .dataframe thead th {\n",
       "        text-align: right;\n",
       "    }\n",
       "</style>\n",
       "<table border=\"1\" class=\"dataframe\">\n",
       "  <thead>\n",
       "    <tr style=\"text-align: right;\">\n",
       "      <th></th>\n",
       "      <th>query</th>\n",
       "      <th>query_role</th>\n",
       "      <th>answer</th>\n",
       "      <th>answer_role</th>\n",
       "    </tr>\n",
       "  </thead>\n",
       "  <tbody>\n",
       "    <tr>\n",
       "      <th>0</th>\n",
       "      <td>Q:A 35-year-old woman comes to your office wit...</td>\n",
       "      <td>user</td>\n",
       "      <td>Hypercoagulable state</td>\n",
       "      <td>assistant</td>\n",
       "    </tr>\n",
       "    <tr>\n",
       "      <th>1</th>\n",
       "      <td>Q:An 8-year-old boy is brought to the pediatri...</td>\n",
       "      <td>user</td>\n",
       "      <td>GAA</td>\n",
       "      <td>assistant</td>\n",
       "    </tr>\n",
       "    <tr>\n",
       "      <th>2</th>\n",
       "      <td>Q:A 36-year-old man is brought to the emergenc...</td>\n",
       "      <td>user</td>\n",
       "      <td>Breakdown of endothelial tight junctions</td>\n",
       "      <td>assistant</td>\n",
       "    </tr>\n",
       "    <tr>\n",
       "      <th>3</th>\n",
       "      <td>Q:A 35-year-old woman presents to the ER with ...</td>\n",
       "      <td>user</td>\n",
       "      <td>Cor pulmonale</td>\n",
       "      <td>assistant</td>\n",
       "    </tr>\n",
       "    <tr>\n",
       "      <th>4</th>\n",
       "      <td>Q:A 5-year-old boy is brought in by his parent...</td>\n",
       "      <td>user</td>\n",
       "      <td>Begin cognitive behavioral therapy</td>\n",
       "      <td>assistant</td>\n",
       "    </tr>\n",
       "  </tbody>\n",
       "</table>\n",
       "</div>"
      ],
      "text/plain": [
       "                                               query query_role  \\\n",
       "0  Q:A 35-year-old woman comes to your office wit...       user   \n",
       "1  Q:An 8-year-old boy is brought to the pediatri...       user   \n",
       "2  Q:A 36-year-old man is brought to the emergenc...       user   \n",
       "3  Q:A 35-year-old woman presents to the ER with ...       user   \n",
       "4  Q:A 5-year-old boy is brought in by his parent...       user   \n",
       "\n",
       "                                      answer answer_role  \n",
       "0                      Hypercoagulable state   assistant  \n",
       "1                                        GAA   assistant  \n",
       "2   Breakdown of endothelial tight junctions   assistant  \n",
       "3                              Cor pulmonale   assistant  \n",
       "4         Begin cognitive behavioral therapy   assistant  "
      ]
     },
     "execution_count": 28,
     "metadata": {},
     "output_type": "execute_result"
    }
   ],
   "source": [
    "light_df = pd.DataFrame(light_storage, columns=[\"query\", \"query_role\", \"answer\", \"answer_role\"])\n",
    "light_df.head()"
   ]
  },
  {
   "cell_type": "code",
   "execution_count": 29,
   "metadata": {},
   "outputs": [],
   "source": [
    "light_df.to_csv(\"medic question-answer.csv\", index=False)"
   ]
  }
 ],
 "metadata": {
  "kernelspec": {
   "display_name": "base",
   "language": "python",
   "name": "python3"
  },
  "language_info": {
   "codemirror_mode": {
    "name": "ipython",
    "version": 3
   },
   "file_extension": ".py",
   "mimetype": "text/x-python",
   "name": "python",
   "nbconvert_exporter": "python",
   "pygments_lexer": "ipython3",
   "version": "3.11.5"
  }
 },
 "nbformat": 4,
 "nbformat_minor": 2
}
